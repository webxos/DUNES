\documentclass{article}
\usepackage[utf8]{inputenc}
\usepackage{geometry}
\geometry{a4paper, margin=1in}
\usepackage{amsmath}
\usepackage{graphicx}
\usepackage{booktabs}
\usepackage{caption}
\usepackage{listings}
\usepackage{xcolor}

% Preamble configuration
\usepackage[T1]{fontenc}
\usepackage{lmodern}

% Document begin
\begin{document}

\title{MCP Integration with WebXOS 2025}
\author{WebXOS Data Science Team}
\date{August 25, 2025}
\maketitle

\section{Introduction}
This notebook integrates MCP servers into the WebXOS ecosystem for enhanced data science workflows.

\section{Setup}
\begin{lstlisting}[language=Python]
import asyncio
from mcp import ClientSession, StdioServerParameters
from mcp.client.stdio import stdio_client
import pandas as pd
import torch
from pydantic import BaseModel
import matplotlib.pyplot as plt

# Define Pydantic model
class FileMetadata(BaseModel):
    path: str
    size: int
    is_dir: bool
    created_at: str

# Setup MCP connection
async def setup_mcp():
    server_params = StdioServerParameters(command="python", args=["-m", "mcp.filesystem_server"])
    async with stdio_client(server_params) as (read, write):
        async with ClientSession(read, write) as session:
            return session
\end{lstlisting}

\section{Data Access and Validation}
\begin{lstlisting}[language=Python]
async def fetch_files(session):
    result = await session.call_tool("list_files", {"path": "/data"})
    files = [FileMetadata(**f) for f in result["files"]]
    return pd.DataFrame([f.dict() for f in files])

# Execute
session = await setup_mcp()
df = await fetch_files(session)
print(df.head())
\end{lstlisting}

\section{ML Integration with PyTorch}
\begin{lstlisting}[language=Python]
class SimpleModel(torch.nn.Module):
    def __init__(self):
        super().__init__()
        self.fc = torch.nn.Linear(10, 2)
    
    def forward(self, x):
        return self.fc(x)

model = SimpleModel()
# Train with MCP-sourced data (placeholder)
\end{lstlisting}

\section{Visualization}
\begin{figure}[h]
    \centering
    \caption{File Size Distribution}
    \includegraphics[width=0.8\textwidth]{file_size_plot.png}
    \label{fig:file_size}
\end{figure}

\section{Conclusion}
MCP integration enhances data access, validation, and visualization within WebXOS.

\end{document}
