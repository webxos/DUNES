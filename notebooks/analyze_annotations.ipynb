\documentclass{article}
\usepackage[utf8]{inputenc}
\usepackage{geometry}
\geometry{a4paper, margin=1in}
\usepackage{amsmath}
\usepackage{graphicx}
\usepackage{booktabs}
\usepackage{caption}
\usepackage{listings}
\usepackage{xcolor}

% Preamble configuration
\usepackage[T1]{fontenc}
\usepackage{lmodern}

% Document begin
\begin{document}

\title{Analyzing Annotations from annot8}
\author{WebXOS Data Science Team}
\date{August 25, 2025}
\maketitle

\section{Introduction}
This notebook analyzes annotations exported from the annot8 system, exploring user activity and annotation patterns.

\section{Setup}
\begin{lstlisting}[language=Python]
import pandas as pd
import matplotlib.pyplot as plt
import requests

# Fetch annotations
response = requests.get('http://localhost:8000/api/annotations/export', headers={'Authorization': 'Bearer test_token'})
data = response.json()['data']

# Convert to DataFrame
df = pd.DataFrame(data)
\end{lstlisting}

\section{Data Exploration}
\begin{itemize}
    \item Total annotations: \texttt{len(df)}
    \item Most active users: Group by user-derived text and count.
\end{itemize}

\section{Visualization}
\begin{figure}[h]
    \centering
    \caption{Annotation Distribution by Time}
    \includegraphics[width=0.8\textwidth]{annotation_time_plot.png}
    \label{fig:time_plot}
\end{figure}

\section{Conclusion}
Analysis reveals key annotators and temporal patterns, guiding future system enhancements.

\end{document}
